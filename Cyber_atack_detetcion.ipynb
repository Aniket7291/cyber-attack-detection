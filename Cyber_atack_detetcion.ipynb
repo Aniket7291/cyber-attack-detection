{
 "cells": [
  {
   "cell_type": "code",
   "execution_count": 1,
   "metadata": {},
   "outputs": [],
   "source": [
    "import zipfile\n",
    "import numpy as np\n",
    "zip_ref = zipfile.ZipFile(\"C:/Users/Aniket/OneDrive/Desktop/cyber_attack_detection/CSTR data files.zip\")\n",
    "zip_ref.extractall(\"/content/sample_data\")\n",
    "zip_ref.close()\n"
   ]
  },
  {
   "cell_type": "code",
   "execution_count": 2,
   "metadata": {},
   "outputs": [],
   "source": [
    "import scipy.io\n",
    "Tr_attack = scipy.io.loadmat('/content/sample_data/CSTR_train_attack.mat') \n",
    "Tr_noise = scipy.io.loadmat('/content/sample_data/CSTR_train_noise.mat')\n",
    "Tr_normal = scipy.io.loadmat('/content/sample_data/CSTR_train_normal.mat')\n",
    "Te_attack = scipy.io.loadmat('/content/sample_data/CSTR_test_attack.mat') \n",
    "Te_noise = scipy.io.loadmat('/content/sample_data/CSTR_test_noise.mat')\n",
    "Te_normal = scipy.io.loadmat('/content/sample_data/CSTR_test_normal.mat')"
   ]
  },
  {
   "cell_type": "code",
   "execution_count": 3,
   "metadata": {},
   "outputs": [],
   "source": [
    "Train_attack = Tr_attack['CSTR_train_attack']\n",
    "Train_noise = Tr_noise['CSTR_train_noise']\n",
    "Train_Normal = Tr_normal['CSTR_train_normal']\n",
    "Test_attack = Te_attack['CSTR_test_attack']\n",
    "Test_noise = Te_noise['CSTR_test_noise']\n",
    "Test_Normal = Te_normal['CSTR_test_normal']"
   ]
  },
  {
   "cell_type": "code",
   "execution_count": 4,
   "metadata": {},
   "outputs": [
    {
     "name": "stdout",
     "output_type": "stream",
     "text": [
      "The size of the training dataset for Attack (694, 201)\n",
      "The size of the training dataset for Noise (694, 201)\n",
      "The size of the training dataset for Normal (694, 201)\n",
      "The size of the testing dataset for Attack (15, 201)\n",
      "The size of the testing dataset for Noise (15, 201)\n",
      "The size of the testing dataset for Normal (15, 201)\n"
     ]
    }
   ],
   "source": [
    "print(\"The size of the training dataset for Attack\",Train_attack.shape)\n",
    "print(\"The size of the training dataset for Noise\",Train_noise.shape)\n",
    "print(\"The size of the training dataset for Normal\",Train_Normal.shape)\n",
    "print(\"The size of the testing dataset for Attack\",Test_attack.shape)\n",
    "print(\"The size of the testing dataset for Noise\",Test_noise.shape)\n",
    "print(\"The size of the testing dataset for Normal\",Test_Normal.shape)"
   ]
  },
  {
   "cell_type": "code",
   "execution_count": 5,
   "metadata": {},
   "outputs": [],
   "source": [
    "Combined_training = []\n",
    "for x in Train_attack[:,:-1]:\n",
    "  Combined_training.append(x)\n",
    "for x in Train_noise[:,:-1]:\n",
    "  Combined_training.append(x)\n",
    "for x in Train_Normal[:,:-1]:\n",
    "  Combined_training.append(x) "
   ]
  },
  {
   "cell_type": "code",
   "execution_count": 6,
   "metadata": {},
   "outputs": [
    {
     "name": "stdout",
     "output_type": "stream",
     "text": [
      "The combined training set (2082, 200)\n"
     ]
    }
   ],
   "source": [
    "Combined_training =np.array(Combined_training)\n",
    "print(\"The combined training set\",Combined_training.shape)"
   ]
  },
  {
   "cell_type": "code",
   "execution_count": 7,
   "metadata": {},
   "outputs": [],
   "source": [
    "Training_target = []\n",
    "for x in Train_attack[:,-1]:\n",
    "  Training_target.append(x)\n",
    "for x in Train_noise[:,-1]:\n",
    "  Training_target.append(x)\n",
    "for x in Train_Normal[:,-1]:\n",
    "  Training_target.append(x)"
   ]
  },
  {
   "cell_type": "code",
   "execution_count": 8,
   "metadata": {},
   "outputs": [
    {
     "name": "stdout",
     "output_type": "stream",
     "text": [
      "The combined target training set (2082,)\n"
     ]
    }
   ],
   "source": [
    "Training_target = np.array(Training_target)\n",
    "print(\"The combined target training set\",Training_target.shape)"
   ]
  },
  {
   "cell_type": "code",
   "execution_count": 9,
   "metadata": {},
   "outputs": [],
   "source": [
    "Combined_testing = []\n",
    "for x in Test_attack[:,:-1]:\n",
    "  Combined_testing.append(x)\n",
    "for x in Test_noise[:,:-1]:\n",
    "  Combined_testing.append(x)\n",
    "for x in Test_Normal[:,:-1]:\n",
    "  Combined_testing.append(x)"
   ]
  },
  {
   "cell_type": "code",
   "execution_count": 10,
   "metadata": {},
   "outputs": [
    {
     "name": "stdout",
     "output_type": "stream",
     "text": [
      "The combined target testing set (45, 200)\n"
     ]
    }
   ],
   "source": [
    "Combined_testing = np.array(Combined_testing)\n",
    "print(\"The combined target testing set\",Combined_testing.shape)"
   ]
  },
  {
   "cell_type": "code",
   "execution_count": 11,
   "metadata": {},
   "outputs": [],
   "source": [
    "Target_testing = []\n",
    "for x in Test_attack[:,-1]:\n",
    "  Target_testing.append(x)\n",
    "for x in Test_noise[:,-1]:\n",
    "  Target_testing.append(x)\n",
    "for x in Test_Normal[:,-1]:\n",
    "  Target_testing.append(x) "
   ]
  },
  {
   "cell_type": "code",
   "execution_count": 12,
   "metadata": {},
   "outputs": [
    {
     "name": "stdout",
     "output_type": "stream",
     "text": [
      "The combined target testing set (45,)\n"
     ]
    }
   ],
   "source": [
    "Target_testing = np.array(Target_testing)\n",
    "print(\"The combined target testing set\",Target_testing.shape)"
   ]
  },
  {
   "cell_type": "code",
   "execution_count": 13,
   "metadata": {},
   "outputs": [
    {
     "name": "stdout",
     "output_type": "stream",
     "text": [
      "Total Testing size:  (45, 3)\n",
      "Total Training size:  (2082, 3)\n"
     ]
    }
   ],
   "source": [
    "from tensorflow.keras.utils import to_categorical\n",
    "from sklearn.preprocessing import OneHotEncoder\n",
    "enc = OneHotEncoder(sparse_output=False)\n",
    "target_total_train = enc.fit_transform(Training_target.reshape(-1,1))\n",
    "target_total_train = np.array(target_total_train)\n",
    "target_total_test = enc.fit_transform(Target_testing.reshape(-1,1))\n",
    "target_total_test = np.array(target_total_test)\n",
    "print(\"Total Testing size: \",target_total_test.shape)\n",
    "print(\"Total Training size: \",target_total_train.shape)"
   ]
  },
  {
   "cell_type": "code",
   "execution_count": 14,
   "metadata": {},
   "outputs": [
    {
     "name": "stderr",
     "output_type": "stream",
     "text": [
      "c:\\Users\\Aniket\\AppData\\Local\\Programs\\Python\\Python312\\Lib\\site-packages\\keras\\src\\layers\\reshaping\\flatten.py:37: UserWarning: Do not pass an `input_shape`/`input_dim` argument to a layer. When using Sequential models, prefer using an `Input(shape)` object as the first layer in the model instead.\n",
      "  super().__init__(**kwargs)\n"
     ]
    }
   ],
   "source": [
    "from tensorflow import keras\n",
    "model = keras.models.Sequential()\n",
    "model.add(keras.layers.Flatten(input_shape=[200,]))\n",
    "model.add(keras.layers.Dense(100, activation=\"relu\"))\n",
    "model.add(keras.layers.Dense(50, activation=\"relu\"))\n",
    "model.add(keras.layers.Dense(25, activation=\"relu\"))\n",
    "model.add(keras.layers.Dense(3, activation=\"softmax\"))"
   ]
  },
  {
   "cell_type": "code",
   "execution_count": 15,
   "metadata": {},
   "outputs": [
    {
     "data": {
      "text/html": [
       "<pre style=\"white-space:pre;overflow-x:auto;line-height:normal;font-family:Menlo,'DejaVu Sans Mono',consolas,'Courier New',monospace\"><span style=\"font-weight: bold\">Model: \"sequential\"</span>\n",
       "</pre>\n"
      ],
      "text/plain": [
       "\u001b[1mModel: \"sequential\"\u001b[0m\n"
      ]
     },
     "metadata": {},
     "output_type": "display_data"
    },
    {
     "data": {
      "text/html": [
       "<pre style=\"white-space:pre;overflow-x:auto;line-height:normal;font-family:Menlo,'DejaVu Sans Mono',consolas,'Courier New',monospace\">┏━━━━━━━━━━━━━━━━━━━━━━━━━━━━━━━━━┳━━━━━━━━━━━━━━━━━━━━━━━━┳━━━━━━━━━━━━━━━┓\n",
       "┃<span style=\"font-weight: bold\"> Layer (type)                    </span>┃<span style=\"font-weight: bold\"> Output Shape           </span>┃<span style=\"font-weight: bold\">       Param # </span>┃\n",
       "┡━━━━━━━━━━━━━━━━━━━━━━━━━━━━━━━━━╇━━━━━━━━━━━━━━━━━━━━━━━━╇━━━━━━━━━━━━━━━┩\n",
       "│ flatten (<span style=\"color: #0087ff; text-decoration-color: #0087ff\">Flatten</span>)               │ (<span style=\"color: #00d7ff; text-decoration-color: #00d7ff\">None</span>, <span style=\"color: #00af00; text-decoration-color: #00af00\">200</span>)            │             <span style=\"color: #00af00; text-decoration-color: #00af00\">0</span> │\n",
       "├─────────────────────────────────┼────────────────────────┼───────────────┤\n",
       "│ dense (<span style=\"color: #0087ff; text-decoration-color: #0087ff\">Dense</span>)                   │ (<span style=\"color: #00d7ff; text-decoration-color: #00d7ff\">None</span>, <span style=\"color: #00af00; text-decoration-color: #00af00\">100</span>)            │        <span style=\"color: #00af00; text-decoration-color: #00af00\">20,100</span> │\n",
       "├─────────────────────────────────┼────────────────────────┼───────────────┤\n",
       "│ dense_1 (<span style=\"color: #0087ff; text-decoration-color: #0087ff\">Dense</span>)                 │ (<span style=\"color: #00d7ff; text-decoration-color: #00d7ff\">None</span>, <span style=\"color: #00af00; text-decoration-color: #00af00\">50</span>)             │         <span style=\"color: #00af00; text-decoration-color: #00af00\">5,050</span> │\n",
       "├─────────────────────────────────┼────────────────────────┼───────────────┤\n",
       "│ dense_2 (<span style=\"color: #0087ff; text-decoration-color: #0087ff\">Dense</span>)                 │ (<span style=\"color: #00d7ff; text-decoration-color: #00d7ff\">None</span>, <span style=\"color: #00af00; text-decoration-color: #00af00\">25</span>)             │         <span style=\"color: #00af00; text-decoration-color: #00af00\">1,275</span> │\n",
       "├─────────────────────────────────┼────────────────────────┼───────────────┤\n",
       "│ dense_3 (<span style=\"color: #0087ff; text-decoration-color: #0087ff\">Dense</span>)                 │ (<span style=\"color: #00d7ff; text-decoration-color: #00d7ff\">None</span>, <span style=\"color: #00af00; text-decoration-color: #00af00\">3</span>)              │            <span style=\"color: #00af00; text-decoration-color: #00af00\">78</span> │\n",
       "└─────────────────────────────────┴────────────────────────┴───────────────┘\n",
       "</pre>\n"
      ],
      "text/plain": [
       "┏━━━━━━━━━━━━━━━━━━━━━━━━━━━━━━━━━┳━━━━━━━━━━━━━━━━━━━━━━━━┳━━━━━━━━━━━━━━━┓\n",
       "┃\u001b[1m \u001b[0m\u001b[1mLayer (type)                   \u001b[0m\u001b[1m \u001b[0m┃\u001b[1m \u001b[0m\u001b[1mOutput Shape          \u001b[0m\u001b[1m \u001b[0m┃\u001b[1m \u001b[0m\u001b[1m      Param #\u001b[0m\u001b[1m \u001b[0m┃\n",
       "┡━━━━━━━━━━━━━━━━━━━━━━━━━━━━━━━━━╇━━━━━━━━━━━━━━━━━━━━━━━━╇━━━━━━━━━━━━━━━┩\n",
       "│ flatten (\u001b[38;5;33mFlatten\u001b[0m)               │ (\u001b[38;5;45mNone\u001b[0m, \u001b[38;5;34m200\u001b[0m)            │             \u001b[38;5;34m0\u001b[0m │\n",
       "├─────────────────────────────────┼────────────────────────┼───────────────┤\n",
       "│ dense (\u001b[38;5;33mDense\u001b[0m)                   │ (\u001b[38;5;45mNone\u001b[0m, \u001b[38;5;34m100\u001b[0m)            │        \u001b[38;5;34m20,100\u001b[0m │\n",
       "├─────────────────────────────────┼────────────────────────┼───────────────┤\n",
       "│ dense_1 (\u001b[38;5;33mDense\u001b[0m)                 │ (\u001b[38;5;45mNone\u001b[0m, \u001b[38;5;34m50\u001b[0m)             │         \u001b[38;5;34m5,050\u001b[0m │\n",
       "├─────────────────────────────────┼────────────────────────┼───────────────┤\n",
       "│ dense_2 (\u001b[38;5;33mDense\u001b[0m)                 │ (\u001b[38;5;45mNone\u001b[0m, \u001b[38;5;34m25\u001b[0m)             │         \u001b[38;5;34m1,275\u001b[0m │\n",
       "├─────────────────────────────────┼────────────────────────┼───────────────┤\n",
       "│ dense_3 (\u001b[38;5;33mDense\u001b[0m)                 │ (\u001b[38;5;45mNone\u001b[0m, \u001b[38;5;34m3\u001b[0m)              │            \u001b[38;5;34m78\u001b[0m │\n",
       "└─────────────────────────────────┴────────────────────────┴───────────────┘\n"
      ]
     },
     "metadata": {},
     "output_type": "display_data"
    },
    {
     "data": {
      "text/html": [
       "<pre style=\"white-space:pre;overflow-x:auto;line-height:normal;font-family:Menlo,'DejaVu Sans Mono',consolas,'Courier New',monospace\"><span style=\"font-weight: bold\"> Total params: </span><span style=\"color: #00af00; text-decoration-color: #00af00\">26,503</span> (103.53 KB)\n",
       "</pre>\n"
      ],
      "text/plain": [
       "\u001b[1m Total params: \u001b[0m\u001b[38;5;34m26,503\u001b[0m (103.53 KB)\n"
      ]
     },
     "metadata": {},
     "output_type": "display_data"
    },
    {
     "data": {
      "text/html": [
       "<pre style=\"white-space:pre;overflow-x:auto;line-height:normal;font-family:Menlo,'DejaVu Sans Mono',consolas,'Courier New',monospace\"><span style=\"font-weight: bold\"> Trainable params: </span><span style=\"color: #00af00; text-decoration-color: #00af00\">26,503</span> (103.53 KB)\n",
       "</pre>\n"
      ],
      "text/plain": [
       "\u001b[1m Trainable params: \u001b[0m\u001b[38;5;34m26,503\u001b[0m (103.53 KB)\n"
      ]
     },
     "metadata": {},
     "output_type": "display_data"
    },
    {
     "data": {
      "text/html": [
       "<pre style=\"white-space:pre;overflow-x:auto;line-height:normal;font-family:Menlo,'DejaVu Sans Mono',consolas,'Courier New',monospace\"><span style=\"font-weight: bold\"> Non-trainable params: </span><span style=\"color: #00af00; text-decoration-color: #00af00\">0</span> (0.00 B)\n",
       "</pre>\n"
      ],
      "text/plain": [
       "\u001b[1m Non-trainable params: \u001b[0m\u001b[38;5;34m0\u001b[0m (0.00 B)\n"
      ]
     },
     "metadata": {},
     "output_type": "display_data"
    }
   ],
   "source": [
    "model.summary()"
   ]
  },
  {
   "cell_type": "code",
   "execution_count": 16,
   "metadata": {},
   "outputs": [
    {
     "name": "stdout",
     "output_type": "stream",
     "text": [
      "Epoch 1/1000\n",
      "\u001b[1m66/66\u001b[0m \u001b[32m━━━━━━━━━━━━━━━━━━━━\u001b[0m\u001b[37m\u001b[0m \u001b[1m2s\u001b[0m 5ms/step - accuracy: 0.3877 - loss: 14.7378 - val_accuracy: 0.2444 - val_loss: 25.4486\n",
      "Epoch 2/1000\n",
      "\u001b[1m66/66\u001b[0m \u001b[32m━━━━━━━━━━━━━━━━━━━━\u001b[0m\u001b[37m\u001b[0m \u001b[1m0s\u001b[0m 2ms/step - accuracy: 0.5268 - loss: 6.3568 - val_accuracy: 0.4000 - val_loss: 6.4112\n",
      "Epoch 3/1000\n",
      "\u001b[1m66/66\u001b[0m \u001b[32m━━━━━━━━━━━━━━━━━━━━\u001b[0m\u001b[37m\u001b[0m \u001b[1m0s\u001b[0m 2ms/step - accuracy: 0.6665 - loss: 3.2394 - val_accuracy: 0.6000 - val_loss: 2.1707\n",
      "Epoch 4/1000\n",
      "\u001b[1m66/66\u001b[0m \u001b[32m━━━━━━━━━━━━━━━━━━━━\u001b[0m\u001b[37m\u001b[0m \u001b[1m0s\u001b[0m 3ms/step - accuracy: 0.7136 - loss: 2.2603 - val_accuracy: 0.6444 - val_loss: 1.9492\n",
      "Epoch 5/1000\n",
      "\u001b[1m66/66\u001b[0m \u001b[32m━━━━━━━━━━━━━━━━━━━━\u001b[0m\u001b[37m\u001b[0m \u001b[1m0s\u001b[0m 2ms/step - accuracy: 0.7459 - loss: 1.6916 - val_accuracy: 0.6667 - val_loss: 1.6030\n",
      "Epoch 6/1000\n",
      "\u001b[1m66/66\u001b[0m \u001b[32m━━━━━━━━━━━━━━━━━━━━\u001b[0m\u001b[37m\u001b[0m \u001b[1m0s\u001b[0m 3ms/step - accuracy: 0.7751 - loss: 1.3452 - val_accuracy: 0.7778 - val_loss: 1.2796\n",
      "Epoch 7/1000\n",
      "\u001b[1m66/66\u001b[0m \u001b[32m━━━━━━━━━━━━━━━━━━━━\u001b[0m\u001b[37m\u001b[0m \u001b[1m0s\u001b[0m 3ms/step - accuracy: 0.7967 - loss: 1.0718 - val_accuracy: 0.8222 - val_loss: 0.9799\n",
      "Epoch 8/1000\n",
      "\u001b[1m66/66\u001b[0m \u001b[32m━━━━━━━━━━━━━━━━━━━━\u001b[0m\u001b[37m\u001b[0m \u001b[1m0s\u001b[0m 3ms/step - accuracy: 0.8321 - loss: 0.8508 - val_accuracy: 0.8444 - val_loss: 0.7532\n",
      "Epoch 9/1000\n",
      "\u001b[1m66/66\u001b[0m \u001b[32m━━━━━━━━━━━━━━━━━━━━\u001b[0m\u001b[37m\u001b[0m \u001b[1m0s\u001b[0m 3ms/step - accuracy: 0.8373 - loss: 0.7881 - val_accuracy: 0.8444 - val_loss: 0.6377\n",
      "Epoch 10/1000\n",
      "\u001b[1m66/66\u001b[0m \u001b[32m━━━━━━━━━━━━━━━━━━━━\u001b[0m\u001b[37m\u001b[0m \u001b[1m0s\u001b[0m 2ms/step - accuracy: 0.8497 - loss: 0.6489 - val_accuracy: 0.8889 - val_loss: 0.5198\n",
      "Epoch 11/1000\n",
      "\u001b[1m66/66\u001b[0m \u001b[32m━━━━━━━━━━━━━━━━━━━━\u001b[0m\u001b[37m\u001b[0m \u001b[1m0s\u001b[0m 2ms/step - accuracy: 0.8744 - loss: 0.6125 - val_accuracy: 0.9111 - val_loss: 0.3807\n",
      "Epoch 12/1000\n",
      "\u001b[1m66/66\u001b[0m \u001b[32m━━━━━━━━━━━━━━━━━━━━\u001b[0m\u001b[37m\u001b[0m \u001b[1m0s\u001b[0m 2ms/step - accuracy: 0.8925 - loss: 0.5296 - val_accuracy: 0.9111 - val_loss: 0.3264\n",
      "Epoch 13/1000\n",
      "\u001b[1m66/66\u001b[0m \u001b[32m━━━━━━━━━━━━━━━━━━━━\u001b[0m\u001b[37m\u001b[0m \u001b[1m0s\u001b[0m 2ms/step - accuracy: 0.9072 - loss: 0.4256 - val_accuracy: 0.9111 - val_loss: 0.2908\n",
      "Epoch 14/1000\n",
      "\u001b[1m66/66\u001b[0m \u001b[32m━━━━━━━━━━━━━━━━━━━━\u001b[0m\u001b[37m\u001b[0m \u001b[1m0s\u001b[0m 3ms/step - accuracy: 0.9218 - loss: 0.3830 - val_accuracy: 0.9111 - val_loss: 0.2572\n",
      "Epoch 15/1000\n",
      "\u001b[1m66/66\u001b[0m \u001b[32m━━━━━━━━━━━━━━━━━━━━\u001b[0m\u001b[37m\u001b[0m \u001b[1m0s\u001b[0m 2ms/step - accuracy: 0.9245 - loss: 0.4272 - val_accuracy: 0.8889 - val_loss: 0.2541\n",
      "Epoch 16/1000\n",
      "\u001b[1m66/66\u001b[0m \u001b[32m━━━━━━━━━━━━━━━━━━━━\u001b[0m\u001b[37m\u001b[0m \u001b[1m0s\u001b[0m 2ms/step - accuracy: 0.9389 - loss: 0.3683 - val_accuracy: 0.9333 - val_loss: 0.1745\n",
      "Epoch 17/1000\n",
      "\u001b[1m66/66\u001b[0m \u001b[32m━━━━━━━━━━━━━━━━━━━━\u001b[0m\u001b[37m\u001b[0m \u001b[1m0s\u001b[0m 3ms/step - accuracy: 0.9358 - loss: 0.3625 - val_accuracy: 0.9333 - val_loss: 0.1596\n",
      "Epoch 18/1000\n",
      "\u001b[1m66/66\u001b[0m \u001b[32m━━━━━━━━━━━━━━━━━━━━\u001b[0m\u001b[37m\u001b[0m \u001b[1m0s\u001b[0m 3ms/step - accuracy: 0.9475 - loss: 0.3355 - val_accuracy: 0.9333 - val_loss: 0.1391\n",
      "Epoch 19/1000\n",
      "\u001b[1m66/66\u001b[0m \u001b[32m━━━━━━━━━━━━━━━━━━━━\u001b[0m\u001b[37m\u001b[0m \u001b[1m0s\u001b[0m 3ms/step - accuracy: 0.9479 - loss: 0.3235 - val_accuracy: 0.9333 - val_loss: 0.1835\n",
      "Epoch 20/1000\n",
      "\u001b[1m66/66\u001b[0m \u001b[32m━━━━━━━━━━━━━━━━━━━━\u001b[0m\u001b[37m\u001b[0m \u001b[1m0s\u001b[0m 3ms/step - accuracy: 0.9514 - loss: 0.3054 - val_accuracy: 0.9333 - val_loss: 0.1388\n",
      "Epoch 21/1000\n",
      "\u001b[1m66/66\u001b[0m \u001b[32m━━━━━━━━━━━━━━━━━━━━\u001b[0m\u001b[37m\u001b[0m \u001b[1m0s\u001b[0m 3ms/step - accuracy: 0.9602 - loss: 0.3019 - val_accuracy: 0.9556 - val_loss: 0.0946\n",
      "Epoch 22/1000\n",
      "\u001b[1m66/66\u001b[0m \u001b[32m━━━━━━━━━━━━━━━━━━━━\u001b[0m\u001b[37m\u001b[0m \u001b[1m0s\u001b[0m 2ms/step - accuracy: 0.9546 - loss: 0.2759 - val_accuracy: 0.9556 - val_loss: 0.0825\n",
      "Epoch 23/1000\n",
      "\u001b[1m66/66\u001b[0m \u001b[32m━━━━━━━━━━━━━━━━━━━━\u001b[0m\u001b[37m\u001b[0m \u001b[1m0s\u001b[0m 3ms/step - accuracy: 0.9547 - loss: 0.2664 - val_accuracy: 0.9556 - val_loss: 0.0743\n",
      "Epoch 24/1000\n",
      "\u001b[1m66/66\u001b[0m \u001b[32m━━━━━━━━━━━━━━━━━━━━\u001b[0m\u001b[37m\u001b[0m \u001b[1m0s\u001b[0m 3ms/step - accuracy: 0.9608 - loss: 0.2444 - val_accuracy: 0.9556 - val_loss: 0.0652\n",
      "Epoch 25/1000\n",
      "\u001b[1m66/66\u001b[0m \u001b[32m━━━━━━━━━━━━━━━━━━━━\u001b[0m\u001b[37m\u001b[0m \u001b[1m0s\u001b[0m 2ms/step - accuracy: 0.9690 - loss: 0.1902 - val_accuracy: 0.9556 - val_loss: 0.0666\n",
      "Epoch 26/1000\n",
      "\u001b[1m66/66\u001b[0m \u001b[32m━━━━━━━━━━━━━━━━━━━━\u001b[0m\u001b[37m\u001b[0m \u001b[1m0s\u001b[0m 3ms/step - accuracy: 0.9599 - loss: 0.2430 - val_accuracy: 0.9556 - val_loss: 0.0471\n",
      "Epoch 27/1000\n",
      "\u001b[1m66/66\u001b[0m \u001b[32m━━━━━━━━━━━━━━━━━━━━\u001b[0m\u001b[37m\u001b[0m \u001b[1m0s\u001b[0m 3ms/step - accuracy: 0.9678 - loss: 0.2085 - val_accuracy: 1.0000 - val_loss: 0.0485\n",
      "Epoch 28/1000\n",
      "\u001b[1m66/66\u001b[0m \u001b[32m━━━━━━━━━━━━━━━━━━━━\u001b[0m\u001b[37m\u001b[0m \u001b[1m0s\u001b[0m 3ms/step - accuracy: 0.9651 - loss: 0.1884 - val_accuracy: 0.9778 - val_loss: 0.0399\n",
      "Epoch 29/1000\n",
      "\u001b[1m66/66\u001b[0m \u001b[32m━━━━━━━━━━━━━━━━━━━━\u001b[0m\u001b[37m\u001b[0m \u001b[1m0s\u001b[0m 3ms/step - accuracy: 0.9641 - loss: 0.1778 - val_accuracy: 1.0000 - val_loss: 0.0333\n",
      "Epoch 30/1000\n",
      "\u001b[1m66/66\u001b[0m \u001b[32m━━━━━━━━━━━━━━━━━━━━\u001b[0m\u001b[37m\u001b[0m \u001b[1m0s\u001b[0m 3ms/step - accuracy: 0.9713 - loss: 0.1821 - val_accuracy: 1.0000 - val_loss: 0.0319\n",
      "Epoch 31/1000\n",
      "\u001b[1m66/66\u001b[0m \u001b[32m━━━━━━━━━━━━━━━━━━━━\u001b[0m\u001b[37m\u001b[0m \u001b[1m0s\u001b[0m 4ms/step - accuracy: 0.9704 - loss: 0.1797 - val_accuracy: 1.0000 - val_loss: 0.0290\n",
      "Epoch 32/1000\n",
      "\u001b[1m66/66\u001b[0m \u001b[32m━━━━━━━━━━━━━━━━━━━━\u001b[0m\u001b[37m\u001b[0m \u001b[1m0s\u001b[0m 4ms/step - accuracy: 0.9672 - loss: 0.2002 - val_accuracy: 1.0000 - val_loss: 0.0247\n",
      "Epoch 33/1000\n",
      "\u001b[1m66/66\u001b[0m \u001b[32m━━━━━━━━━━━━━━━━━━━━\u001b[0m\u001b[37m\u001b[0m \u001b[1m0s\u001b[0m 4ms/step - accuracy: 0.9726 - loss: 0.1785 - val_accuracy: 1.0000 - val_loss: 0.0289\n",
      "Epoch 34/1000\n",
      "\u001b[1m66/66\u001b[0m \u001b[32m━━━━━━━━━━━━━━━━━━━━\u001b[0m\u001b[37m\u001b[0m \u001b[1m0s\u001b[0m 4ms/step - accuracy: 0.9708 - loss: 0.1699 - val_accuracy: 1.0000 - val_loss: 0.0281\n",
      "Epoch 35/1000\n",
      "\u001b[1m66/66\u001b[0m \u001b[32m━━━━━━━━━━━━━━━━━━━━\u001b[0m\u001b[37m\u001b[0m \u001b[1m0s\u001b[0m 4ms/step - accuracy: 0.9744 - loss: 0.1308 - val_accuracy: 1.0000 - val_loss: 0.0230\n",
      "Epoch 36/1000\n",
      "\u001b[1m66/66\u001b[0m \u001b[32m━━━━━━━━━━━━━━━━━━━━\u001b[0m\u001b[37m\u001b[0m \u001b[1m0s\u001b[0m 4ms/step - accuracy: 0.9715 - loss: 0.1526 - val_accuracy: 1.0000 - val_loss: 0.0313\n",
      "Epoch 37/1000\n",
      "\u001b[1m66/66\u001b[0m \u001b[32m━━━━━━━━━━━━━━━━━━━━\u001b[0m\u001b[37m\u001b[0m \u001b[1m0s\u001b[0m 4ms/step - accuracy: 0.9773 - loss: 0.1186 - val_accuracy: 1.0000 - val_loss: 0.0282\n",
      "Epoch 38/1000\n",
      "\u001b[1m66/66\u001b[0m \u001b[32m━━━━━━━━━━━━━━━━━━━━\u001b[0m\u001b[37m\u001b[0m \u001b[1m0s\u001b[0m 4ms/step - accuracy: 0.9722 - loss: 0.1421 - val_accuracy: 1.0000 - val_loss: 0.0174\n",
      "Epoch 39/1000\n",
      "\u001b[1m66/66\u001b[0m \u001b[32m━━━━━━━━━━━━━━━━━━━━\u001b[0m\u001b[37m\u001b[0m \u001b[1m0s\u001b[0m 4ms/step - accuracy: 0.9783 - loss: 0.1255 - val_accuracy: 1.0000 - val_loss: 0.0212\n",
      "Epoch 40/1000\n",
      "\u001b[1m66/66\u001b[0m \u001b[32m━━━━━━━━━━━━━━━━━━━━\u001b[0m\u001b[37m\u001b[0m \u001b[1m0s\u001b[0m 4ms/step - accuracy: 0.9728 - loss: 0.1568 - val_accuracy: 1.0000 - val_loss: 0.0143\n",
      "Epoch 41/1000\n",
      "\u001b[1m66/66\u001b[0m \u001b[32m━━━━━━━━━━━━━━━━━━━━\u001b[0m\u001b[37m\u001b[0m \u001b[1m0s\u001b[0m 3ms/step - accuracy: 0.9809 - loss: 0.1003 - val_accuracy: 1.0000 - val_loss: 0.0178\n",
      "Epoch 42/1000\n",
      "\u001b[1m66/66\u001b[0m \u001b[32m━━━━━━━━━━━━━━━━━━━━\u001b[0m\u001b[37m\u001b[0m \u001b[1m0s\u001b[0m 4ms/step - accuracy: 0.9770 - loss: 0.1149 - val_accuracy: 1.0000 - val_loss: 0.0145\n",
      "Epoch 43/1000\n",
      "\u001b[1m66/66\u001b[0m \u001b[32m━━━━━━━━━━━━━━━━━━━━\u001b[0m\u001b[37m\u001b[0m \u001b[1m0s\u001b[0m 4ms/step - accuracy: 0.9742 - loss: 0.1194 - val_accuracy: 1.0000 - val_loss: 0.0139\n",
      "Epoch 44/1000\n",
      "\u001b[1m66/66\u001b[0m \u001b[32m━━━━━━━━━━━━━━━━━━━━\u001b[0m\u001b[37m\u001b[0m \u001b[1m0s\u001b[0m 4ms/step - accuracy: 0.9777 - loss: 0.1040 - val_accuracy: 1.0000 - val_loss: 0.0139\n",
      "Epoch 45/1000\n",
      "\u001b[1m66/66\u001b[0m \u001b[32m━━━━━━━━━━━━━━━━━━━━\u001b[0m\u001b[37m\u001b[0m \u001b[1m0s\u001b[0m 5ms/step - accuracy: 0.9851 - loss: 0.0753 - val_accuracy: 1.0000 - val_loss: 0.0163\n",
      "Epoch 46/1000\n",
      "\u001b[1m66/66\u001b[0m \u001b[32m━━━━━━━━━━━━━━━━━━━━\u001b[0m\u001b[37m\u001b[0m \u001b[1m0s\u001b[0m 6ms/step - accuracy: 0.9784 - loss: 0.1206 - val_accuracy: 1.0000 - val_loss: 0.0124\n",
      "Epoch 47/1000\n",
      "\u001b[1m66/66\u001b[0m \u001b[32m━━━━━━━━━━━━━━━━━━━━\u001b[0m\u001b[37m\u001b[0m \u001b[1m1s\u001b[0m 8ms/step - accuracy: 0.9711 - loss: 0.1333 - val_accuracy: 1.0000 - val_loss: 0.0138\n",
      "Epoch 48/1000\n",
      "\u001b[1m66/66\u001b[0m \u001b[32m━━━━━━━━━━━━━━━━━━━━\u001b[0m\u001b[37m\u001b[0m \u001b[1m0s\u001b[0m 5ms/step - accuracy: 0.9771 - loss: 0.1451 - val_accuracy: 1.0000 - val_loss: 0.0098\n",
      "Epoch 49/1000\n",
      "\u001b[1m66/66\u001b[0m \u001b[32m━━━━━━━━━━━━━━━━━━━━\u001b[0m\u001b[37m\u001b[0m \u001b[1m0s\u001b[0m 4ms/step - accuracy: 0.9866 - loss: 0.0813 - val_accuracy: 1.0000 - val_loss: 0.0131\n",
      "Epoch 50/1000\n",
      "\u001b[1m66/66\u001b[0m \u001b[32m━━━━━━━━━━━━━━━━━━━━\u001b[0m\u001b[37m\u001b[0m \u001b[1m0s\u001b[0m 3ms/step - accuracy: 0.9844 - loss: 0.0733 - val_accuracy: 1.0000 - val_loss: 0.0120\n",
      "Epoch 51/1000\n",
      "\u001b[1m66/66\u001b[0m \u001b[32m━━━━━━━━━━━━━━━━━━━━\u001b[0m\u001b[37m\u001b[0m \u001b[1m0s\u001b[0m 4ms/step - accuracy: 0.9789 - loss: 0.1163 - val_accuracy: 1.0000 - val_loss: 0.0132\n",
      "Epoch 52/1000\n",
      "\u001b[1m66/66\u001b[0m \u001b[32m━━━━━━━━━━━━━━━━━━━━\u001b[0m\u001b[37m\u001b[0m \u001b[1m0s\u001b[0m 4ms/step - accuracy: 0.9859 - loss: 0.0888 - val_accuracy: 1.0000 - val_loss: 0.0115\n",
      "Epoch 53/1000\n",
      "\u001b[1m66/66\u001b[0m \u001b[32m━━━━━━━━━━━━━━━━━━━━\u001b[0m\u001b[37m\u001b[0m \u001b[1m0s\u001b[0m 3ms/step - accuracy: 0.9825 - loss: 0.0841 - val_accuracy: 1.0000 - val_loss: 0.0122\n",
      "Epoch 54/1000\n",
      "\u001b[1m66/66\u001b[0m \u001b[32m━━━━━━━━━━━━━━━━━━━━\u001b[0m\u001b[37m\u001b[0m \u001b[1m0s\u001b[0m 4ms/step - accuracy: 0.9831 - loss: 0.1197 - val_accuracy: 1.0000 - val_loss: 0.0137\n",
      "Epoch 55/1000\n",
      "\u001b[1m66/66\u001b[0m \u001b[32m━━━━━━━━━━━━━━━━━━━━\u001b[0m\u001b[37m\u001b[0m \u001b[1m0s\u001b[0m 4ms/step - accuracy: 0.9834 - loss: 0.0990 - val_accuracy: 1.0000 - val_loss: 0.0095\n",
      "Epoch 56/1000\n",
      "\u001b[1m66/66\u001b[0m \u001b[32m━━━━━━━━━━━━━━━━━━━━\u001b[0m\u001b[37m\u001b[0m \u001b[1m0s\u001b[0m 3ms/step - accuracy: 0.9846 - loss: 0.0756 - val_accuracy: 1.0000 - val_loss: 0.0087\n",
      "Epoch 57/1000\n",
      "\u001b[1m66/66\u001b[0m \u001b[32m━━━━━━━━━━━━━━━━━━━━\u001b[0m\u001b[37m\u001b[0m \u001b[1m0s\u001b[0m 4ms/step - accuracy: 0.9879 - loss: 0.0684 - val_accuracy: 1.0000 - val_loss: 0.0081\n",
      "Epoch 58/1000\n",
      "\u001b[1m66/66\u001b[0m \u001b[32m━━━━━━━━━━━━━━━━━━━━\u001b[0m\u001b[37m\u001b[0m \u001b[1m1s\u001b[0m 8ms/step - accuracy: 0.9827 - loss: 0.0955 - val_accuracy: 1.0000 - val_loss: 0.0061\n",
      "Epoch 59/1000\n",
      "\u001b[1m66/66\u001b[0m \u001b[32m━━━━━━━━━━━━━━━━━━━━\u001b[0m\u001b[37m\u001b[0m \u001b[1m2s\u001b[0m 23ms/step - accuracy: 0.9893 - loss: 0.0655 - val_accuracy: 1.0000 - val_loss: 0.0057\n",
      "Epoch 60/1000\n",
      "\u001b[1m66/66\u001b[0m \u001b[32m━━━━━━━━━━━━━━━━━━━━\u001b[0m\u001b[37m\u001b[0m \u001b[1m2s\u001b[0m 20ms/step - accuracy: 0.9850 - loss: 0.0768 - val_accuracy: 1.0000 - val_loss: 0.0076\n",
      "Epoch 61/1000\n",
      "\u001b[1m66/66\u001b[0m \u001b[32m━━━━━━━━━━━━━━━━━━━━\u001b[0m\u001b[37m\u001b[0m \u001b[1m1s\u001b[0m 17ms/step - accuracy: 0.9899 - loss: 0.0561 - val_accuracy: 1.0000 - val_loss: 0.0041\n",
      "Epoch 62/1000\n",
      "\u001b[1m66/66\u001b[0m \u001b[32m━━━━━━━━━━━━━━━━━━━━\u001b[0m\u001b[37m\u001b[0m \u001b[1m1s\u001b[0m 11ms/step - accuracy: 0.9797 - loss: 0.0936 - val_accuracy: 1.0000 - val_loss: 0.0042\n",
      "Epoch 63/1000\n",
      "\u001b[1m66/66\u001b[0m \u001b[32m━━━━━━━━━━━━━━━━━━━━\u001b[0m\u001b[37m\u001b[0m \u001b[1m1s\u001b[0m 16ms/step - accuracy: 0.9822 - loss: 0.0901 - val_accuracy: 1.0000 - val_loss: 0.0048\n",
      "Epoch 64/1000\n",
      "\u001b[1m66/66\u001b[0m \u001b[32m━━━━━━━━━━━━━━━━━━━━\u001b[0m\u001b[37m\u001b[0m \u001b[1m2s\u001b[0m 22ms/step - accuracy: 0.9883 - loss: 0.0598 - val_accuracy: 1.0000 - val_loss: 0.0046\n",
      "Epoch 65/1000\n",
      "\u001b[1m66/66\u001b[0m \u001b[32m━━━━━━━━━━━━━━━━━━━━\u001b[0m\u001b[37m\u001b[0m \u001b[1m2s\u001b[0m 18ms/step - accuracy: 0.9863 - loss: 0.0655 - val_accuracy: 1.0000 - val_loss: 0.0029\n",
      "Epoch 66/1000\n",
      "\u001b[1m66/66\u001b[0m \u001b[32m━━━━━━━━━━━━━━━━━━━━\u001b[0m\u001b[37m\u001b[0m \u001b[1m3s\u001b[0m 36ms/step - accuracy: 0.9870 - loss: 0.0660 - val_accuracy: 1.0000 - val_loss: 0.0038\n",
      "Epoch 67/1000\n",
      "\u001b[1m66/66\u001b[0m \u001b[32m━━━━━━━━━━━━━━━━━━━━\u001b[0m\u001b[37m\u001b[0m \u001b[1m1s\u001b[0m 9ms/step - accuracy: 0.9877 - loss: 0.0580 - val_accuracy: 1.0000 - val_loss: 0.0037\n",
      "Epoch 68/1000\n",
      "\u001b[1m66/66\u001b[0m \u001b[32m━━━━━━━━━━━━━━━━━━━━\u001b[0m\u001b[37m\u001b[0m \u001b[1m1s\u001b[0m 12ms/step - accuracy: 0.9872 - loss: 0.0655 - val_accuracy: 1.0000 - val_loss: 0.0029\n",
      "Epoch 69/1000\n",
      "\u001b[1m66/66\u001b[0m \u001b[32m━━━━━━━━━━━━━━━━━━━━\u001b[0m\u001b[37m\u001b[0m \u001b[1m1s\u001b[0m 6ms/step - accuracy: 0.9834 - loss: 0.0840 - val_accuracy: 1.0000 - val_loss: 0.0036\n",
      "Epoch 70/1000\n",
      "\u001b[1m66/66\u001b[0m \u001b[32m━━━━━━━━━━━━━━━━━━━━\u001b[0m\u001b[37m\u001b[0m \u001b[1m1s\u001b[0m 13ms/step - accuracy: 0.9898 - loss: 0.0635 - val_accuracy: 1.0000 - val_loss: 0.0028\n",
      "Epoch 71/1000\n",
      "\u001b[1m66/66\u001b[0m \u001b[32m━━━━━━━━━━━━━━━━━━━━\u001b[0m\u001b[37m\u001b[0m \u001b[1m2s\u001b[0m 23ms/step - accuracy: 0.9890 - loss: 0.0593 - val_accuracy: 1.0000 - val_loss: 0.0024\n",
      "Epoch 72/1000\n",
      "\u001b[1m66/66\u001b[0m \u001b[32m━━━━━━━━━━━━━━━━━━━━\u001b[0m\u001b[37m\u001b[0m \u001b[1m1s\u001b[0m 14ms/step - accuracy: 0.9861 - loss: 0.0770 - val_accuracy: 1.0000 - val_loss: 0.0013\n",
      "Epoch 73/1000\n",
      "\u001b[1m66/66\u001b[0m \u001b[32m━━━━━━━━━━━━━━━━━━━━\u001b[0m\u001b[37m\u001b[0m \u001b[1m1s\u001b[0m 14ms/step - accuracy: 0.9866 - loss: 0.0637 - val_accuracy: 1.0000 - val_loss: 0.0016\n",
      "Epoch 74/1000\n",
      "\u001b[1m66/66\u001b[0m \u001b[32m━━━━━━━━━━━━━━━━━━━━\u001b[0m\u001b[37m\u001b[0m \u001b[1m2s\u001b[0m 15ms/step - accuracy: 0.9868 - loss: 0.0514 - val_accuracy: 1.0000 - val_loss: 0.0020\n",
      "Epoch 75/1000\n",
      "\u001b[1m66/66\u001b[0m \u001b[32m━━━━━━━━━━━━━━━━━━━━\u001b[0m\u001b[37m\u001b[0m \u001b[1m1s\u001b[0m 14ms/step - accuracy: 0.9865 - loss: 0.0622 - val_accuracy: 1.0000 - val_loss: 0.0017\n",
      "Epoch 76/1000\n",
      "\u001b[1m66/66\u001b[0m \u001b[32m━━━━━━━━━━━━━━━━━━━━\u001b[0m\u001b[37m\u001b[0m \u001b[1m2s\u001b[0m 21ms/step - accuracy: 0.9863 - loss: 0.0740 - val_accuracy: 1.0000 - val_loss: 9.8939e-04\n",
      "Epoch 77/1000\n",
      "\u001b[1m66/66\u001b[0m \u001b[32m━━━━━━━━━━━━━━━━━━━━\u001b[0m\u001b[37m\u001b[0m \u001b[1m1s\u001b[0m 15ms/step - accuracy: 0.9873 - loss: 0.0850 - val_accuracy: 1.0000 - val_loss: 0.0012\n",
      "Epoch 78/1000\n",
      "\u001b[1m66/66\u001b[0m \u001b[32m━━━━━━━━━━━━━━━━━━━━\u001b[0m\u001b[37m\u001b[0m \u001b[1m2s\u001b[0m 17ms/step - accuracy: 0.9914 - loss: 0.0547 - val_accuracy: 1.0000 - val_loss: 0.0014\n",
      "Epoch 79/1000\n",
      "\u001b[1m66/66\u001b[0m \u001b[32m━━━━━━━━━━━━━━━━━━━━\u001b[0m\u001b[37m\u001b[0m \u001b[1m2s\u001b[0m 20ms/step - accuracy: 0.9903 - loss: 0.0468 - val_accuracy: 1.0000 - val_loss: 0.0017\n",
      "Epoch 80/1000\n",
      "\u001b[1m66/66\u001b[0m \u001b[32m━━━━━━━━━━━━━━━━━━━━\u001b[0m\u001b[37m\u001b[0m \u001b[1m1s\u001b[0m 11ms/step - accuracy: 0.9878 - loss: 0.0560 - val_accuracy: 1.0000 - val_loss: 7.2905e-04\n",
      "Epoch 81/1000\n",
      "\u001b[1m66/66\u001b[0m \u001b[32m━━━━━━━━━━━━━━━━━━━━\u001b[0m\u001b[37m\u001b[0m \u001b[1m1s\u001b[0m 13ms/step - accuracy: 0.9915 - loss: 0.0420 - val_accuracy: 1.0000 - val_loss: 0.0012\n",
      "Epoch 82/1000\n",
      "\u001b[1m66/66\u001b[0m \u001b[32m━━━━━━━━━━━━━━━━━━━━\u001b[0m\u001b[37m\u001b[0m \u001b[1m1s\u001b[0m 12ms/step - accuracy: 0.9917 - loss: 0.0483 - val_accuracy: 1.0000 - val_loss: 9.9166e-04\n",
      "Epoch 83/1000\n",
      "\u001b[1m66/66\u001b[0m \u001b[32m━━━━━━━━━━━━━━━━━━━━\u001b[0m\u001b[37m\u001b[0m \u001b[1m1s\u001b[0m 13ms/step - accuracy: 0.9920 - loss: 0.0437 - val_accuracy: 1.0000 - val_loss: 5.9650e-04\n",
      "Epoch 84/1000\n",
      "\u001b[1m66/66\u001b[0m \u001b[32m━━━━━━━━━━━━━━━━━━━━\u001b[0m\u001b[37m\u001b[0m \u001b[1m2s\u001b[0m 13ms/step - accuracy: 0.9902 - loss: 0.0480 - val_accuracy: 1.0000 - val_loss: 0.0016\n",
      "Epoch 85/1000\n",
      "\u001b[1m66/66\u001b[0m \u001b[32m━━━━━━━━━━━━━━━━━━━━\u001b[0m\u001b[37m\u001b[0m \u001b[1m1s\u001b[0m 10ms/step - accuracy: 0.9845 - loss: 0.0484 - val_accuracy: 1.0000 - val_loss: 4.9925e-04\n",
      "Epoch 86/1000\n",
      "\u001b[1m66/66\u001b[0m \u001b[32m━━━━━━━━━━━━━━━━━━━━\u001b[0m\u001b[37m\u001b[0m \u001b[1m1s\u001b[0m 9ms/step - accuracy: 0.9890 - loss: 0.0550 - val_accuracy: 1.0000 - val_loss: 0.0012\n",
      "Epoch 87/1000\n",
      "\u001b[1m66/66\u001b[0m \u001b[32m━━━━━━━━━━━━━━━━━━━━\u001b[0m\u001b[37m\u001b[0m \u001b[1m1s\u001b[0m 15ms/step - accuracy: 0.9869 - loss: 0.0588 - val_accuracy: 1.0000 - val_loss: 4.0999e-04\n",
      "Epoch 88/1000\n",
      "\u001b[1m66/66\u001b[0m \u001b[32m━━━━━━━━━━━━━━━━━━━━\u001b[0m\u001b[37m\u001b[0m \u001b[1m1s\u001b[0m 19ms/step - accuracy: 0.9923 - loss: 0.0339 - val_accuracy: 1.0000 - val_loss: 6.4786e-04\n",
      "Epoch 89/1000\n",
      "\u001b[1m66/66\u001b[0m \u001b[32m━━━━━━━━━━━━━━━━━━━━\u001b[0m\u001b[37m\u001b[0m \u001b[1m2s\u001b[0m 20ms/step - accuracy: 0.9930 - loss: 0.0381 - val_accuracy: 1.0000 - val_loss: 0.0017\n",
      "Epoch 90/1000\n",
      "\u001b[1m66/66\u001b[0m \u001b[32m━━━━━━━━━━━━━━━━━━━━\u001b[0m\u001b[37m\u001b[0m \u001b[1m1s\u001b[0m 12ms/step - accuracy: 0.9904 - loss: 0.0382 - val_accuracy: 1.0000 - val_loss: 7.7813e-04\n",
      "Epoch 91/1000\n",
      "\u001b[1m66/66\u001b[0m \u001b[32m━━━━━━━━━━━━━━━━━━━━\u001b[0m\u001b[37m\u001b[0m \u001b[1m1s\u001b[0m 18ms/step - accuracy: 0.9919 - loss: 0.0399 - val_accuracy: 1.0000 - val_loss: 3.2939e-04\n",
      "Epoch 92/1000\n",
      "\u001b[1m66/66\u001b[0m \u001b[32m━━━━━━━━━━━━━━━━━━━━\u001b[0m\u001b[37m\u001b[0m \u001b[1m1s\u001b[0m 18ms/step - accuracy: 0.9897 - loss: 0.0369 - val_accuracy: 1.0000 - val_loss: 4.9429e-04\n",
      "Epoch 93/1000\n",
      "\u001b[1m66/66\u001b[0m \u001b[32m━━━━━━━━━━━━━━━━━━━━\u001b[0m\u001b[37m\u001b[0m \u001b[1m1s\u001b[0m 15ms/step - accuracy: 0.9922 - loss: 0.0437 - val_accuracy: 1.0000 - val_loss: 7.6413e-04\n",
      "Epoch 94/1000\n",
      "\u001b[1m66/66\u001b[0m \u001b[32m━━━━━━━━━━━━━━━━━━━━\u001b[0m\u001b[37m\u001b[0m \u001b[1m2s\u001b[0m 24ms/step - accuracy: 0.9900 - loss: 0.0435 - val_accuracy: 1.0000 - val_loss: 5.1893e-04\n",
      "Epoch 95/1000\n",
      "\u001b[1m66/66\u001b[0m \u001b[32m━━━━━━━━━━━━━━━━━━━━\u001b[0m\u001b[37m\u001b[0m \u001b[1m1s\u001b[0m 16ms/step - accuracy: 0.9909 - loss: 0.0441 - val_accuracy: 1.0000 - val_loss: 2.6858e-04\n",
      "Epoch 96/1000\n",
      "\u001b[1m66/66\u001b[0m \u001b[32m━━━━━━━━━━━━━━━━━━━━\u001b[0m\u001b[37m\u001b[0m \u001b[1m2s\u001b[0m 19ms/step - accuracy: 0.9915 - loss: 0.0472 - val_accuracy: 1.0000 - val_loss: 6.7104e-04\n",
      "Epoch 97/1000\n",
      "\u001b[1m66/66\u001b[0m \u001b[32m━━━━━━━━━━━━━━━━━━━━\u001b[0m\u001b[37m\u001b[0m \u001b[1m1s\u001b[0m 8ms/step - accuracy: 0.9948 - loss: 0.0352 - val_accuracy: 1.0000 - val_loss: 5.7082e-04\n",
      "Epoch 98/1000\n",
      "\u001b[1m66/66\u001b[0m \u001b[32m━━━━━━━━━━━━━━━━━━━━\u001b[0m\u001b[37m\u001b[0m \u001b[1m3s\u001b[0m 38ms/step - accuracy: 0.9914 - loss: 0.0344 - val_accuracy: 1.0000 - val_loss: 6.1053e-04\n",
      "Epoch 99/1000\n",
      "\u001b[1m66/66\u001b[0m \u001b[32m━━━━━━━━━━━━━━━━━━━━\u001b[0m\u001b[37m\u001b[0m \u001b[1m2s\u001b[0m 22ms/step - accuracy: 0.9937 - loss: 0.0456 - val_accuracy: 1.0000 - val_loss: 8.5527e-04\n",
      "Epoch 100/1000\n",
      "\u001b[1m66/66\u001b[0m \u001b[32m━━━━━━━━━━━━━━━━━━━━\u001b[0m\u001b[37m\u001b[0m \u001b[1m2s\u001b[0m 7ms/step - accuracy: 0.9929 - loss: 0.0344 - val_accuracy: 1.0000 - val_loss: 8.0524e-04\n",
      "Epoch 101/1000\n",
      "\u001b[1m66/66\u001b[0m \u001b[32m━━━━━━━━━━━━━━━━━━━━\u001b[0m\u001b[37m\u001b[0m \u001b[1m1s\u001b[0m 18ms/step - accuracy: 0.9918 - loss: 0.0464 - val_accuracy: 1.0000 - val_loss: 3.6184e-04\n",
      "Epoch 102/1000\n",
      "\u001b[1m66/66\u001b[0m \u001b[32m━━━━━━━━━━━━━━━━━━━━\u001b[0m\u001b[37m\u001b[0m \u001b[1m1s\u001b[0m 15ms/step - accuracy: 0.9939 - loss: 0.0296 - val_accuracy: 1.0000 - val_loss: 6.5017e-04\n",
      "Epoch 103/1000\n",
      "\u001b[1m66/66\u001b[0m \u001b[32m━━━━━━━━━━━━━━━━━━━━\u001b[0m\u001b[37m\u001b[0m \u001b[1m1s\u001b[0m 10ms/step - accuracy: 0.9931 - loss: 0.0348 - val_accuracy: 1.0000 - val_loss: 3.3238e-04\n",
      "Epoch 104/1000\n",
      "\u001b[1m66/66\u001b[0m \u001b[32m━━━━━━━━━━━━━━━━━━━━\u001b[0m\u001b[37m\u001b[0m \u001b[1m2s\u001b[0m 28ms/step - accuracy: 0.9961 - loss: 0.0257 - val_accuracy: 1.0000 - val_loss: 5.9996e-04\n",
      "Epoch 105/1000\n",
      "\u001b[1m66/66\u001b[0m \u001b[32m━━━━━━━━━━━━━━━━━━━━\u001b[0m\u001b[37m\u001b[0m \u001b[1m2s\u001b[0m 20ms/step - accuracy: 0.9933 - loss: 0.0306 - val_accuracy: 1.0000 - val_loss: 6.2316e-04\n",
      "Epoch 106/1000\n",
      "\u001b[1m66/66\u001b[0m \u001b[32m━━━━━━━━━━━━━━━━━━━━\u001b[0m\u001b[37m\u001b[0m \u001b[1m3s\u001b[0m 20ms/step - accuracy: 0.9960 - loss: 0.0309 - val_accuracy: 1.0000 - val_loss: 4.0697e-04\n",
      "Epoch 107/1000\n",
      "\u001b[1m66/66\u001b[0m \u001b[32m━━━━━━━━━━━━━━━━━━━━\u001b[0m\u001b[37m\u001b[0m \u001b[1m1s\u001b[0m 17ms/step - accuracy: 0.9966 - loss: 0.0312 - val_accuracy: 1.0000 - val_loss: 5.3961e-04\n",
      "Epoch 108/1000\n",
      "\u001b[1m66/66\u001b[0m \u001b[32m━━━━━━━━━━━━━━━━━━━━\u001b[0m\u001b[37m\u001b[0m \u001b[1m2s\u001b[0m 21ms/step - accuracy: 0.9934 - loss: 0.0301 - val_accuracy: 1.0000 - val_loss: 5.0844e-04\n",
      "Epoch 109/1000\n",
      "\u001b[1m66/66\u001b[0m \u001b[32m━━━━━━━━━━━━━━━━━━━━\u001b[0m\u001b[37m\u001b[0m \u001b[1m1s\u001b[0m 17ms/step - accuracy: 0.9930 - loss: 0.0345 - val_accuracy: 1.0000 - val_loss: 4.7310e-04\n",
      "Epoch 110/1000\n",
      "\u001b[1m66/66\u001b[0m \u001b[32m━━━━━━━━━━━━━━━━━━━━\u001b[0m\u001b[37m\u001b[0m \u001b[1m2s\u001b[0m 8ms/step - accuracy: 0.9948 - loss: 0.0318 - val_accuracy: 1.0000 - val_loss: 4.8269e-04\n",
      "Epoch 111/1000\n",
      "\u001b[1m66/66\u001b[0m \u001b[32m━━━━━━━━━━━━━━━━━━━━\u001b[0m\u001b[37m\u001b[0m \u001b[1m1s\u001b[0m 16ms/step - accuracy: 0.9924 - loss: 0.0342 - val_accuracy: 1.0000 - val_loss: 4.1668e-04\n",
      "Epoch 112/1000\n",
      "\u001b[1m66/66\u001b[0m \u001b[32m━━━━━━━━━━━━━━━━━━━━\u001b[0m\u001b[37m\u001b[0m \u001b[1m1s\u001b[0m 13ms/step - accuracy: 0.9959 - loss: 0.0266 - val_accuracy: 1.0000 - val_loss: 4.5904e-04\n",
      "Epoch 113/1000\n",
      "\u001b[1m66/66\u001b[0m \u001b[32m━━━━━━━━━━━━━━━━━━━━\u001b[0m\u001b[37m\u001b[0m \u001b[1m1s\u001b[0m 9ms/step - accuracy: 0.9932 - loss: 0.0349 - val_accuracy: 1.0000 - val_loss: 6.7362e-04\n",
      "Epoch 114/1000\n",
      "\u001b[1m66/66\u001b[0m \u001b[32m━━━━━━━━━━━━━━━━━━━━\u001b[0m\u001b[37m\u001b[0m \u001b[1m1s\u001b[0m 13ms/step - accuracy: 0.9922 - loss: 0.0427 - val_accuracy: 1.0000 - val_loss: 3.5372e-04\n",
      "Epoch 115/1000\n",
      "\u001b[1m66/66\u001b[0m \u001b[32m━━━━━━━━━━━━━━━━━━━━\u001b[0m\u001b[37m\u001b[0m \u001b[1m1s\u001b[0m 16ms/step - accuracy: 0.9917 - loss: 0.0348 - val_accuracy: 1.0000 - val_loss: 3.7518e-04\n",
      "Epoch 116/1000\n",
      "\u001b[1m66/66\u001b[0m \u001b[32m━━━━━━━━━━━━━━━━━━━━\u001b[0m\u001b[37m\u001b[0m \u001b[1m1s\u001b[0m 13ms/step - accuracy: 0.9947 - loss: 0.0360 - val_accuracy: 1.0000 - val_loss: 5.2828e-04\n",
      "Epoch 117/1000\n",
      "\u001b[1m66/66\u001b[0m \u001b[32m━━━━━━━━━━━━━━━━━━━━\u001b[0m\u001b[37m\u001b[0m \u001b[1m1s\u001b[0m 8ms/step - accuracy: 0.9942 - loss: 0.0293 - val_accuracy: 1.0000 - val_loss: 6.6157e-04\n",
      "Epoch 118/1000\n",
      "\u001b[1m66/66\u001b[0m \u001b[32m━━━━━━━━━━━━━━━━━━━━\u001b[0m\u001b[37m\u001b[0m \u001b[1m1s\u001b[0m 14ms/step - accuracy: 0.9973 - loss: 0.0276 - val_accuracy: 1.0000 - val_loss: 5.8875e-04\n",
      "Epoch 119/1000\n",
      "\u001b[1m66/66\u001b[0m \u001b[32m━━━━━━━━━━━━━━━━━━━━\u001b[0m\u001b[37m\u001b[0m \u001b[1m1s\u001b[0m 16ms/step - accuracy: 0.9958 - loss: 0.0276 - val_accuracy: 1.0000 - val_loss: 5.3775e-04\n",
      "Epoch 120/1000\n",
      "\u001b[1m66/66\u001b[0m \u001b[32m━━━━━━━━━━━━━━━━━━━━\u001b[0m\u001b[37m\u001b[0m \u001b[1m1s\u001b[0m 14ms/step - accuracy: 0.9947 - loss: 0.0311 - val_accuracy: 1.0000 - val_loss: 7.0833e-04\n",
      "Epoch 121/1000\n",
      "\u001b[1m66/66\u001b[0m \u001b[32m━━━━━━━━━━━━━━━━━━━━\u001b[0m\u001b[37m\u001b[0m \u001b[1m2s\u001b[0m 21ms/step - accuracy: 0.9956 - loss: 0.0274 - val_accuracy: 1.0000 - val_loss: 6.4214e-04\n",
      "Epoch 122/1000\n",
      "\u001b[1m66/66\u001b[0m \u001b[32m━━━━━━━━━━━━━━━━━━━━\u001b[0m\u001b[37m\u001b[0m \u001b[1m1s\u001b[0m 17ms/step - accuracy: 0.9980 - loss: 0.0241 - val_accuracy: 1.0000 - val_loss: 9.1017e-04\n",
      "Epoch 123/1000\n",
      "\u001b[1m66/66\u001b[0m \u001b[32m━━━━━━━━━━━━━━━━━━━━\u001b[0m\u001b[37m\u001b[0m \u001b[1m1s\u001b[0m 13ms/step - accuracy: 0.9972 - loss: 0.0248 - val_accuracy: 1.0000 - val_loss: 6.8827e-04\n",
      "Epoch 124/1000\n",
      "\u001b[1m66/66\u001b[0m \u001b[32m━━━━━━━━━━━━━━━━━━━━\u001b[0m\u001b[37m\u001b[0m \u001b[1m1s\u001b[0m 9ms/step - accuracy: 0.9953 - loss: 0.0298 - val_accuracy: 1.0000 - val_loss: 5.1917e-04\n",
      "Epoch 125/1000\n",
      "\u001b[1m66/66\u001b[0m \u001b[32m━━━━━━━━━━━━━━━━━━━━\u001b[0m\u001b[37m\u001b[0m \u001b[1m1s\u001b[0m 13ms/step - accuracy: 0.9973 - loss: 0.0220 - val_accuracy: 1.0000 - val_loss: 5.5410e-04\n",
      "Epoch 126/1000\n",
      "\u001b[1m66/66\u001b[0m \u001b[32m━━━━━━━━━━━━━━━━━━━━\u001b[0m\u001b[37m\u001b[0m \u001b[1m1s\u001b[0m 12ms/step - accuracy: 0.9948 - loss: 0.0267 - val_accuracy: 1.0000 - val_loss: 4.7903e-04\n",
      "Epoch 127/1000\n",
      "\u001b[1m66/66\u001b[0m \u001b[32m━━━━━━━━━━━━━━━━━━━━\u001b[0m\u001b[37m\u001b[0m \u001b[1m1s\u001b[0m 13ms/step - accuracy: 0.9962 - loss: 0.0260 - val_accuracy: 1.0000 - val_loss: 6.6695e-04\n",
      "Epoch 128/1000\n",
      "\u001b[1m66/66\u001b[0m \u001b[32m━━━━━━━━━━━━━━━━━━━━\u001b[0m\u001b[37m\u001b[0m \u001b[1m1s\u001b[0m 8ms/step - accuracy: 0.9946 - loss: 0.0275 - val_accuracy: 1.0000 - val_loss: 6.5111e-04\n",
      "Epoch 129/1000\n",
      "\u001b[1m66/66\u001b[0m \u001b[32m━━━━━━━━━━━━━━━━━━━━\u001b[0m\u001b[37m\u001b[0m \u001b[1m1s\u001b[0m 8ms/step - accuracy: 0.9958 - loss: 0.0271 - val_accuracy: 1.0000 - val_loss: 7.3114e-04\n",
      "Epoch 130/1000\n",
      "\u001b[1m66/66\u001b[0m \u001b[32m━━━━━━━━━━━━━━━━━━━━\u001b[0m\u001b[37m\u001b[0m \u001b[1m1s\u001b[0m 15ms/step - accuracy: 0.9956 - loss: 0.0293 - val_accuracy: 1.0000 - val_loss: 7.1861e-04\n",
      "Epoch 131/1000\n",
      "\u001b[1m66/66\u001b[0m \u001b[32m━━━━━━━━━━━━━━━━━━━━\u001b[0m\u001b[37m\u001b[0m \u001b[1m1s\u001b[0m 18ms/step - accuracy: 0.9970 - loss: 0.0226 - val_accuracy: 1.0000 - val_loss: 5.5345e-04\n",
      "Epoch 132/1000\n",
      "\u001b[1m66/66\u001b[0m \u001b[32m━━━━━━━━━━━━━━━━━━━━\u001b[0m\u001b[37m\u001b[0m \u001b[1m3s\u001b[0m 14ms/step - accuracy: 0.9980 - loss: 0.0194 - val_accuracy: 1.0000 - val_loss: 5.4770e-04\n",
      "Epoch 133/1000\n",
      "\u001b[1m66/66\u001b[0m \u001b[32m━━━━━━━━━━━━━━━━━━━━\u001b[0m\u001b[37m\u001b[0m \u001b[1m2s\u001b[0m 22ms/step - accuracy: 0.9959 - loss: 0.0259 - val_accuracy: 1.0000 - val_loss: 6.6142e-04\n",
      "Epoch 134/1000\n",
      "\u001b[1m66/66\u001b[0m \u001b[32m━━━━━━━━━━━━━━━━━━━━\u001b[0m\u001b[37m\u001b[0m \u001b[1m2s\u001b[0m 21ms/step - accuracy: 0.9973 - loss: 0.0264 - val_accuracy: 1.0000 - val_loss: 6.4298e-04\n",
      "Epoch 135/1000\n",
      "\u001b[1m66/66\u001b[0m \u001b[32m━━━━━━━━━━━━━━━━━━━━\u001b[0m\u001b[37m\u001b[0m \u001b[1m1s\u001b[0m 19ms/step - accuracy: 0.9974 - loss: 0.0225 - val_accuracy: 1.0000 - val_loss: 5.7371e-04\n",
      "Epoch 136/1000\n",
      "\u001b[1m66/66\u001b[0m \u001b[32m━━━━━━━━━━━━━━━━━━━━\u001b[0m\u001b[37m\u001b[0m \u001b[1m3s\u001b[0m 33ms/step - accuracy: 0.9965 - loss: 0.0296 - val_accuracy: 1.0000 - val_loss: 5.1508e-04\n",
      "Epoch 137/1000\n"
     ]
    }
   ],
   "source": [
    "from keras import losses\n",
    "from tensorflow import keras\n",
    "\n",
    "model.compile(\n",
    "    loss=\"categorical_crossentropy\",\n",
    "    optimizer=keras.optimizers.Adam(\n",
    "        learning_rate=0.00001,  \n",
    "        beta_1=0.9,\n",
    "        beta_2=0.999,\n",
    "        amsgrad=True\n",
    "    ),\n",
    "    metrics=[\"accuracy\"]\n",
    ")\n",
    "\n",
    "hist = model.fit(\n",
    "    Combined_training,  \n",
    "    target_total_train,  \n",
    "    epochs=1000,  \n",
    "    batch_size=32,  \n",
    "    validation_data=(Combined_testing, target_total_test)  \n",
    ")\n",
    "\n",
    "\n",
    "\n",
    "# Save the trained model\n",
    "model_save_path = \"cyber_attack_detection.h5\"\n",
    "model.save(model_save_path)\n",
    "print(\"Model saved successfully at:\", model_save_path)\n"
   ]
  },
  {
   "cell_type": "code",
   "execution_count": null,
   "metadata": {},
   "outputs": [
    {
     "data": {
      "image/png": "[encoded data removed]",
      "text/plain": [
       "<Figure size 1000x1000 with 1 Axes>"
      ]
     },
     "metadata": {},
     "output_type": "display_data"
    }
   ],
   "source": [
    "\n",
    "import pandas as pd\n",
    "import matplotlib.pyplot as plt\n",
    "\n",
    "plt.rcParams[\"figure.figsize\"] = (10, 10)\n",
    "\n",
    "plt.plot(hist.history['loss'], label=\"Train_loss\", linestyle='solid', linewidth=2, marker='o', markersize=6)\n",
    "plt.plot(hist.history['val_loss'], label=\"Valid_loss\", linestyle='--', linewidth=2, marker='x', markersize=6)\n",
    "\n",
    "plt.plot(hist.history['accuracy'], label=\"Train_accuracy\", linestyle='solid', linewidth=2, marker='o', markersize=6)\n",
    "plt.plot(hist.history['val_accuracy'], label=\"Valid_accuracy\", linestyle='--', linewidth=2, marker='x', markersize=6)\n",
    "\n",
    "plt.gca().set_xlim(0, 300)\n",
    "plt.gca().set_ylim(0, 2)  \n",
    "\n",
    "plt.xlabel('Number of epochs', fontsize=14)\n",
    "plt.ylabel('Loss/Accuracy', fontsize=14)\n",
    "plt.title('Cyber Attack Detection using Neural Network', fontsize=16)\n",
    "\n",
    "plt.legend()\n",
    "plt.grid(True)\n",
    "\n",
    "plt.show()\n",
    "\n"
   ]
  },
  {
   "cell_type": "code",
   "execution_count": null,
   "metadata": {},
   "outputs": [
    {
     "name": "stdout",
     "output_type": "stream",
     "text": [
      "Training Accuracy:  1.0\n",
      "Testing Accuracy:  1.0\n"
     ]
    }
   ],
   "source": [
    "# Evaluating the model on the training and testing set\n",
    "score = model.evaluate(Combined_training, target_total_train, verbose=0)\n",
    "print(\"Training Accuracy: \", score[1])\n",
    "score = model.evaluate(Combined_testing, target_total_test, verbose=0)\n",
    "print(\"Testing Accuracy: \", score[1])"
   ]
  }
 ],
 "metadata": {
  "kernelspec": {
   "display_name": "Python 3",
   "language": "python",
   "name": "python3"
  },
  "language_info": {
   "codemirror_mode": {
    "name": "ipython",
    "version": 3
   },
   "file_extension": ".py",
   "mimetype": "text/x-python",
   "name": "python",
   "nbconvert_exporter": "python",
   "pygments_lexer": "ipython3",
   "version": "3.12.3"
  }
 },
 "nbformat": 4,
 "nbformat_minor": 2
}
